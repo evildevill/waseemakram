{
  "nbformat": 4,
  "nbformat_minor": 0,
  "metadata": {
    "colab": {
      "name": "Udemy_Downloader_By_The_Vip_Onehack_Us_updated.ipynb",
      "provenance": [],
      "collapsed_sections": [],
      "toc_visible": true
    },
    "kernelspec": {
      "name": "python3",
      "display_name": "Python 3"
    }
  },
  "cells": [
    {
      "cell_type": "code",
      "metadata": {
        "id": "R4QBua4xKN2W",
        "colab_type": "code",
        "cellView": "form",
        "colab": {}
      },
      "source": [
        "#@title <= FIRST RUN THIS CELL (It will clone the repo and install necessary files)\n",
        "!git clone https://github.com/r0oth3x49/udemy-dl.git && cd udemy-dl && pip install -r requirements.txt"
      ],
      "execution_count": 0,
      "outputs": []
    },
    {
      "cell_type": "code",
      "metadata": {
        "id": "_hpsYhc5hR0o",
        "colab_type": "code",
        "cellView": "form",
        "colab": {}
      },
      "source": [
        "#@title RUN THIS CELL TO MOUNT YOUR DRIVE (In which you want to save the course)\n",
        "from google.colab import drive\n",
        "drive.mount('/content/drive', force_remount=True)"
      ],
      "execution_count": 0,
      "outputs": []
    },
    {
      "cell_type": "code",
      "metadata": {
        "id": "oTpJougMtrE1",
        "colab_type": "code",
        "cellView": "form",
        "outputId": "a258216c-5509-47f1-acb3-2f43d8c83fe2",
        "colab": {
          "base_uri": "https://localhost:8080/",
          "height": 34
        }
      },
      "source": [
        "#@title RUN THIS CELL TO CHANGE CURRENT WORKING DIRECTORY\n",
        "%cd udemy-dl/"
      ],
      "execution_count": 2,
      "outputs": [
        {
          "output_type": "stream",
          "text": [
            "/content/udemy-dl\n"
          ],
          "name": "stdout"
        }
      ]
    },
    {
      "cell_type": "markdown",
      "metadata": {
        "id": "CgtuIWHUxclO",
        "colab_type": "text"
      },
      "source": [
        "# Finally, Run Below Cell After Filling All the Details"
      ]
    },
    {
      "cell_type": "code",
      "metadata": {
        "id": "i53VKEGOkiYP",
        "colab_type": "code",
        "cellView": "form",
        "colab": {}
      },
      "source": [
        "\n",
        "import os\n",
        "Course_Url = \"\" #@param {type:\"string\"}\n",
        "os.environ[\"courseurl\"] = Course_Url\n",
        "\n",
        "Download_Dir = \"\" #@param {type:\"string\"}\n",
        "os.environ[\"downloaddir\"] = Download_Dir\n",
        "\n",
        "Access_Token = \"\" #@param {type:\"string\"}\n",
        "os.environ[\"token\"] = Access_Token\n",
        "\n",
        "Subtitle_lang = \"en\" #@param {type:\"string\"}\n",
        "os.environ[\"lang\"] = Subtitle_lang\n",
        "\n",
        "Quality = \"720\" #@param {type:\"string\"}\n",
        "os.environ[\"quality\"] = Quality\n",
        "\n",
        "!echo access_token=\"$token\" >> cookie.txt\n",
        "!python udemy-dl.py \"$courseurl\" -s \"$lang\" -q \"$quality\" -k cookie.txt -o \"$downloaddir\""
      ],
      "execution_count": 0,
      "outputs": []
    },
    {
      "cell_type": "markdown",
      "metadata": {
        "id": "lkKW5oI7xu3P",
        "colab_type": "text"
      },
      "source": [
        "\n",
        "\n",
        "---\n",
        "\n",
        "\n",
        "# Tutorial Link => [Click Here](https://onehack.us/t/how-to-download-any-udemy-course-directly-to-your-drive-or-team-drive/85509/5)\n",
        "\n",
        " \n",
        "\n",
        "---\n",
        "\n"
      ]
    }
  ]
}